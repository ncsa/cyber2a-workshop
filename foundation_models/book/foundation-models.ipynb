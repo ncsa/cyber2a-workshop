{
 "cells": [
  {
   "cell_type": "markdown",
   "metadata": {},
   "source": [
    "# Foundation Models: The Cornerstones of Modern AI\n",
    "\n",
    "## Instructors\n",
    "\n",
    "* Sandeep Puthanveetil Satheesan <sandeeps@illinois.edu>, Sr. Research Software Engineer National Center for Supercomputing Applications (NCSA) University of Illinois Urbana-Champaign \n",
    "* Minu Mathew <minum@illinois.edu>, Research Software Engineer National Center for Supercomputing Applications (NCSA) University of Illinois Urbana-Champaign \n",
    "\n",
    "## Overview\n",
    "\n",
    "Foundation models (FM) are deep learning models trained on massive raw unlabelled datasets usually through self-supervised learning. FMs enable today’s data scientists to use them as the base and fine-tune using domain specific data to obtain models that can handle a wide range of tasks [1, 6, 7]. In this talk, we provide an introduction to FMs, its history, evolution, and go through its key features and categories, and a few examples. We also briefly discuss how foundation models work. This talk will be a precursor to the hands-on session that follows on the same topic.\n",
    "\n",
    "![](images/foundation_models.png)\n",
    "Image source: 2021 paper on foundation models by Stanford researchers [@Bommasani2021FoundationModels;].\n",
    "\n",
    "In this session, we take a closer look at what constitutes a foundation model, a few examples, and some basic principles around how it works.\n",
    "\n",
    "## Outline \n",
    "1. Overview of foundation models\n",
    "2. Types of foundation models\n",
    "3. Architecture\n",
    "3. Segment Anything Model (SAM 2)\n",
    "4. Retrieval Augmented Generation\n"
   ]
  },
  {
   "cell_type": "markdown",
   "metadata": {},
   "source": [
    "## Introduction\n",
    "\n",
    "### Traditional ML vs Deep Learning vs Foundation Models\n",
    "\n",
    "**Traditional machine learning** involves algorithms that learn patterns from structured data. Techniques like decision trees, support vector machines, and linear regression fall under this category. These methods often require feature engineering, where domain knowledge is used to select and transform input features to improve model performance. Traditional machine learning excels in scenarios with limited data and interpretable results.\n",
    "\n",
    "**Deep learning** is a subset of machine learning that employs neural networks with multiple layers (hence \"deep\"). These models automatically learn features from raw data, making them particularly powerful for complex tasks like image and speech recognition. Deep learning excels with large datasets and can capture intricate patterns but often requires significant computational resources and can be harder to interpret compared to traditional methods.\n",
    "\n",
    "**Foundation models**, such as GPT and BERT, represent a new paradigm in AI. These large-scale models are pre-trained on vast amounts of data and can be fine-tuned for specific tasks with minimal additional training. They are designed to understand and generate human-like text, making them versatile for various applications like natural language processing and computer vision. Foundation models leverage transfer learning, allowing them to generalize across different tasks more effectively than traditional machine learning and deep learning models.\n",
    "\n",
    "\n"
   ]
  },
  {
   "cell_type": "markdown",
   "metadata": {},
   "source": [
    "## Foundation Models\n",
    "\n",
    "Foundation models, introduced in 2021 by Standford Researchers [@Bommasani2021FoundationModels;], are characterized by their enormous neural networks trained on vast datasets through self-supervised learning. Their intelligence improves with more data, requiring substantial computational power for training. These models can be adapted to various downstream tasks and are designed for reuse, leveraging transfer learning to enhance performance across different applications.\n",
    "::: {.column-margin}\n",
    "![](images/foundation_models_paper.png)\n",
    ":::"
   ]
  }
 ],
 "metadata": {
  "language_info": {
   "name": "python"
  }
 },
 "nbformat": 4,
 "nbformat_minor": 2
}
